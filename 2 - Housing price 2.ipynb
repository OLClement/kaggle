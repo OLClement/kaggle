{
 "cells": [
  {
   "cell_type": "code",
   "execution_count": 1,
   "metadata": {},
   "outputs": [],
   "source": [
    "import numpy as np\n",
    "import pandas as pd \n",
    "\n",
    "%matplotlib inline\n",
    "import matplotlib.pyplot as plt  # Matlab-style plotting\n",
    "import seaborn as sns\n",
    "color = sns.color_palette()\n",
    "sns.set_style('darkgrid')"
   ]
  },
  {
   "cell_type": "code",
   "execution_count": 2,
   "metadata": {},
   "outputs": [
    {
     "name": "stdout",
     "output_type": "stream",
     "text": [
      "train shape: (1460, 81)\n",
      "test shape: (1459, 80)\n"
     ]
    }
   ],
   "source": [
    "TRAIN_PATH = 'datasets/train.csv'\n",
    "TEST_PATH = 'datasets/test.csv'\n",
    "\n",
    "train = pd.read_csv(TRAIN_PATH)\n",
    "test = pd.read_csv(TEST_PATH)\n",
    "\n",
    "print('train shape:',train.shape)\n",
    "print('test shape:',test.shape)"
   ]
  },
  {
   "cell_type": "code",
   "execution_count": 3,
   "metadata": {},
   "outputs": [],
   "source": [
    "train_id = train['Id']\n",
    "test_id = test['Id']\n",
    "train.drop(columns='Id', inplace=True)\n",
    "test.drop(columns='Id', inplace=True)"
   ]
  },
  {
   "cell_type": "markdown",
   "metadata": {},
   "source": [
    "## Preprocessing: \n",
    "* missing values\n",
    "* outliers\n",
    "* transformation\n",
    "* feature engineering\n",
    "* feature selection"
   ]
  },
  {
   "cell_type": "code",
   "execution_count": 4,
   "metadata": {},
   "outputs": [
    {
     "name": "stdout",
     "output_type": "stream",
     "text": [
      "Pourcentage de valeurs manquantes par variable\n"
     ]
    },
    {
     "data": {
      "text/plain": [
       "PoolQC          99.5\n",
       "MiscFeature     96.3\n",
       "Alley           93.8\n",
       "Fence           80.8\n",
       "FireplaceQu     47.3\n",
       "LotFrontage     17.7\n",
       "GarageYrBlt      5.5\n",
       "GarageType       5.5\n",
       "GarageFinish     5.5\n",
       "GarageQual       5.5\n",
       "GarageCond       5.5\n",
       "BsmtFinType2     2.6\n",
       "BsmtExposure     2.6\n",
       "BsmtFinType1     2.5\n",
       "BsmtCond         2.5\n",
       "BsmtQual         2.5\n",
       "MasVnrArea       0.5\n",
       "MasVnrType       0.5\n",
       "Electrical       0.1\n",
       "dtype: float64"
      ]
     },
     "execution_count": 4,
     "metadata": {},
     "output_type": "execute_result"
    }
   ],
   "source": [
    "# isoler colonnes avec valeurs manquantes\n",
    "missings = train.isna().sum()\n",
    "missings = missings.loc[missings>0].sort_values(ascending=False)\n",
    "\n",
    "print('Pourcentage de valeurs manquantes par variable')\n",
    "100 * np.round(missings/len(train),3)"
   ]
  },
  {
   "cell_type": "markdown",
   "metadata": {},
   "source": [
    "PoolQC, MiscFeature, Alley, Fense et FirePlaceQu ont clairement beaucoup trop de valeurs manquantes. (>50%) \n",
    "* Pour <b>LotFrontage</b>, à vérifier si les valeurs NaN correspondent à une absence de valeur ou à 0, puisque aucun 0 n'est présent.\n",
    "* <b>FireplaceQu</b> a des Na qui correspondent d'après le métier à une absence de Fireplace, donc c'est une information à prendre en compte. Cependant, celle-ci est déjà contenue dans FirePlaces. => Supprumer FireplaceQu\n",
    "* <b>Fence</b> a des Na qui correspondent d'après le métier à une absence de Fence, donc c'est une information à prendre en compte.\n",
    "* De même pour <b>Alley</b>, Na signifie 'No Alley access', ce qui est une information.\n",
    "* De même pour <b>PoolQC</b>, Na signifie 'No Pool', ce qui est une information. Cependant, l'information Qu'il n'y a pas de piscine est déjà contenue dans la variable PoolArea qui indique 0 quand la sruface est nulle (donc inexistante)"
   ]
  },
  {
   "cell_type": "markdown",
   "metadata": {},
   "source": [
    "1) Remplacer les 'Na' par des No 'X' pour les X variables (Fence et Alley).\n",
    "\n",
    "2) <b>GarageX :</b> ['GarageYrBlt','GarageType','GarageFinish','GarageQual','GarageCond'] ont quelques valeurs manquantes (5%) et visiblement les mêmes. La plupart du temps le Na signifie 'No Garage' et cette information est contenue déjà dans GarageCars ou GarageArea. On peut les mettre de coté pour l'instant. Même conclusion pour les <b>BsmtX</b>.\n",
    "\n",
    "3) Donc on supprime les colonnes : LotFrontage, GarageX,BsmtX, PoolQC, MasVnrArea, MasVnrType  et FireplaceQu\n",
    "\n",
    "4) fill Electrical"
   ]
  },
  {
   "cell_type": "code",
   "execution_count": 5,
   "metadata": {},
   "outputs": [],
   "source": [
    "# replace NaN de Alley et Fence \n",
    "cols_change = ['Alley','Fence']\n",
    "\n",
    "for col in cols_change:\n",
    "    train[col].fillna(value='None',inplace=True)"
   ]
  },
  {
   "cell_type": "code",
   "execution_count": 6,
   "metadata": {},
   "outputs": [
    {
     "data": {
      "text/plain": [
       "(1460, 64)"
      ]
     },
     "execution_count": 6,
     "metadata": {},
     "output_type": "execute_result"
    }
   ],
   "source": [
    "supp_cols = ['GarageYrBlt','GarageType','GarageFinish','GarageQual','GarageCond','BsmtFinType2','BsmtExposure',\n",
    "             'BsmtFinType1','BsmtCond','BsmtQual' ,\n",
    "             'LotFrontage','PoolQC','MasVnrArea','MasVnrType','FireplaceQu','MiscFeature' ]\n",
    "\n",
    "train.drop(columns=supp_cols,inplace=True)\n",
    "train.shape"
   ]
  },
  {
   "cell_type": "code",
   "execution_count": 7,
   "metadata": {},
   "outputs": [],
   "source": [
    "# Fill Electrical\n",
    "\n",
    "train['Electrical'].fillna(value=train['Electrical'].mode()[0],inplace=True)"
   ]
  },
  {
   "cell_type": "markdown",
   "metadata": {},
   "source": [
    "Transform des valeurs numeriques en categories"
   ]
  },
  {
   "cell_type": "code",
   "execution_count": 8,
   "metadata": {},
   "outputs": [],
   "source": [
    "#MSSubClass=The building class\n",
    "train['MSSubClass'] = train['MSSubClass'].apply(str)\n",
    "\n",
    "#Year and month sold are transformed into categorical features.\n",
    "train['YrSold'] = train['YrSold'].astype(str)\n",
    "train['MoSold'] = train['MoSold'].astype(str)"
   ]
  },
  {
   "cell_type": "markdown",
   "metadata": {},
   "source": [
    "Maintenant, pre-preocessing des valeurs numériques."
   ]
  },
  {
   "cell_type": "code",
   "execution_count": 9,
   "metadata": {
    "scrolled": true
   },
   "outputs": [
    {
     "data": {
      "text/plain": [
       "Index(['LotArea', 'OverallQual', 'OverallCond', 'YearBuilt', 'YearRemodAdd',\n",
       "       'BsmtFinSF1', 'BsmtFinSF2', 'BsmtUnfSF', 'TotalBsmtSF', '1stFlrSF',\n",
       "       '2ndFlrSF', 'LowQualFinSF', 'GrLivArea', 'BsmtFullBath', 'BsmtHalfBath',\n",
       "       'FullBath', 'HalfBath', 'BedroomAbvGr', 'KitchenAbvGr', 'TotRmsAbvGrd',\n",
       "       'Fireplaces', 'GarageCars', 'GarageArea', 'WoodDeckSF', 'OpenPorchSF',\n",
       "       'EnclosedPorch', '3SsnPorch', 'ScreenPorch', 'PoolArea', 'MiscVal',\n",
       "       'SalePrice'],\n",
       "      dtype='object')"
      ]
     },
     "execution_count": 9,
     "metadata": {},
     "output_type": "execute_result"
    }
   ],
   "source": [
    "numerical_data = train._get_numeric_data()\n",
    "numerical_data.columns"
   ]
  },
  {
   "cell_type": "code",
   "execution_count": 10,
   "metadata": {
    "scrolled": true
   },
   "outputs": [
    {
     "data": {
      "text/plain": [
       "MiscVal          24.476794\n",
       "PoolArea         14.828374\n",
       "LotArea          12.207688\n",
       "3SsnPorch        10.304342\n",
       "LowQualFinSF      9.011341\n",
       "KitchenAbvGr      4.488397\n",
       "BsmtFinSF2        4.255261\n",
       "ScreenPorch       4.122214\n",
       "BsmtHalfBath      4.103403\n",
       "EnclosedPorch     3.089872\n",
       "OpenPorchSF       2.364342\n",
       "SalePrice         1.882876\n",
       "BsmtFinSF1        1.685503\n",
       "WoodDeckSF        1.541376\n",
       "TotalBsmtSF       1.524255\n",
       "1stFlrSF          1.376757\n",
       "GrLivArea         1.366560\n",
       "BsmtUnfSF         0.920268\n",
       "2ndFlrSF          0.813030\n",
       "OverallCond       0.693067\n",
       "TotRmsAbvGrd      0.676341\n",
       "HalfBath          0.675897\n",
       "Fireplaces        0.649565\n",
       "BsmtFullBath      0.596067\n",
       "OverallQual       0.216944\n",
       "BedroomAbvGr      0.211790\n",
       "GarageArea        0.179981\n",
       "FullBath          0.036562\n",
       "GarageCars       -0.342549\n",
       "YearRemodAdd     -0.503562\n",
       "YearBuilt        -0.613461\n",
       "dtype: float64"
      ]
     },
     "execution_count": 10,
     "metadata": {},
     "output_type": "execute_result"
    }
   ],
   "source": [
    "numerical_data.skew().sort_values(ascending=False)"
   ]
  },
  {
   "cell_type": "code",
   "execution_count": 11,
   "metadata": {},
   "outputs": [],
   "source": [
    "# toutes les varaibles au dessus de 1 => transformation\n",
    "train[numerical_data.columns] = train[numerical_data.columns].apply(np.log1p)"
   ]
  },
  {
   "cell_type": "markdown",
   "metadata": {},
   "source": [
    "Transformer categorie où l'ordre est important en variable quantitative discrete : "
   ]
  },
  {
   "cell_type": "code",
   "execution_count": 12,
   "metadata": {},
   "outputs": [],
   "source": [
    "cols_quali = ['ExterQual', 'ExterCond','HeatingQC', 'KitchenQual',\n",
    "              'Functional', 'Fence', 'LandSlope','LotShape', 'PavedDrive', 'Street', 'Alley',\n",
    "              'CentralAir', 'OverallCond', 'YrSold', 'MoSold']\n",
    "\n",
    "quali_ordered = {'Ex':5, 'Gd':4, 'TA':3, 'Fa':2, 'Po':1, 'NA':0}"
   ]
  },
  {
   "cell_type": "code",
   "execution_count": 13,
   "metadata": {
    "scrolled": true
   },
   "outputs": [
    {
     "name": "stdout",
     "output_type": "stream",
     "text": [
      "\n",
      " TA    906\n",
      "Gd    488\n",
      "Ex     52\n",
      "Fa     14\n",
      "Name: ExterQual, dtype: int64\n",
      "\n",
      " TA    1282\n",
      "Gd     146\n",
      "Fa      28\n",
      "Ex       3\n",
      "Po       1\n",
      "Name: ExterCond, dtype: int64\n",
      "\n",
      " Ex    741\n",
      "TA    428\n",
      "Gd    241\n",
      "Fa     49\n",
      "Po      1\n",
      "Name: HeatingQC, dtype: int64\n",
      "\n",
      " TA    735\n",
      "Gd    586\n",
      "Ex    100\n",
      "Fa     39\n",
      "Name: KitchenQual, dtype: int64\n",
      "\n",
      " Typ     1360\n",
      "Min2      34\n",
      "Min1      31\n",
      "Mod       15\n",
      "Maj1      14\n",
      "Maj2       5\n",
      "Sev        1\n",
      "Name: Functional, dtype: int64\n",
      "\n",
      " None     1179\n",
      "MnPrv     157\n",
      "GdPrv      59\n",
      "GdWo       54\n",
      "MnWw       11\n",
      "Name: Fence, dtype: int64\n",
      "\n",
      " Gtl    1382\n",
      "Mod      65\n",
      "Sev      13\n",
      "Name: LandSlope, dtype: int64\n",
      "\n",
      " Reg    925\n",
      "IR1    484\n",
      "IR2     41\n",
      "IR3     10\n",
      "Name: LotShape, dtype: int64\n",
      "\n",
      " Y    1340\n",
      "N      90\n",
      "P      30\n",
      "Name: PavedDrive, dtype: int64\n",
      "\n",
      " Pave    1454\n",
      "Grvl       6\n",
      "Name: Street, dtype: int64\n",
      "\n",
      " None    1369\n",
      "Grvl      50\n",
      "Pave      41\n",
      "Name: Alley, dtype: int64\n",
      "\n",
      " Y    1365\n",
      "N      95\n",
      "Name: CentralAir, dtype: int64\n",
      "\n",
      " 1.791759    821\n",
      "1.945910    252\n",
      "2.079442    205\n",
      "2.197225     72\n",
      "1.609438     57\n",
      "1.386294     25\n",
      "2.302585     22\n",
      "1.098612      5\n",
      "0.693147      1\n",
      "Name: OverallCond, dtype: int64\n",
      "\n",
      " 2009    338\n",
      "2007    329\n",
      "2006    314\n",
      "2008    304\n",
      "2010    175\n",
      "Name: YrSold, dtype: int64\n",
      "\n",
      " 6     253\n",
      "7     234\n",
      "5     204\n",
      "4     141\n",
      "8     122\n",
      "3     106\n",
      "10     89\n",
      "11     79\n",
      "9      63\n",
      "12     59\n",
      "1      58\n",
      "2      52\n",
      "Name: MoSold, dtype: int64\n"
     ]
    }
   ],
   "source": [
    "for col in cols_quali:\n",
    "    print('\\n',train[col].value_counts())"
   ]
  },
  {
   "cell_type": "code",
   "execution_count": 14,
   "metadata": {},
   "outputs": [],
   "source": [
    "for col in ['ExterQual', 'ExterCond','HeatingQC', 'KitchenQual']:\n",
    "    train[col] = train[col].map(quali_ordered)\n",
    "\n",
    "# Functionnal col : \n",
    "col = 'Functional'\n",
    "train[col] = train[col].map({'Typ':7,'Min1':6,'Min2':5,'Mod':4,'Maj1':3,'Maj2':2,'Sev':1,'Sal':0})\n",
    "\n",
    "# Fence col : \n",
    "col = 'Fence'\n",
    "train[col] = train[col].map({'GdPrv':4,'MnPrv':3,'GdWo':2,'MnWw':1,'None':0})\n",
    "\n",
    "# LandSlope col : \n",
    "col = 'LandSlope'\n",
    "train[col] = train[col].map({'Gtl':2,'Mod':1,'Sev':0})\n",
    "\n",
    "# LotShape col : \n",
    "col = 'LotShape'\n",
    "train[col] = train[col].map({'Reg':3,'IR1':2,'IR2':1,'IR3':0})\n",
    "\n",
    "# PavedDrive col : \n",
    "col = 'PavedDrive'\n",
    "train[col] = train[col].map({'Y':2,'P':1,'N':0})\n",
    "\n",
    "# Street\n",
    "col = 'Street'\n",
    "train[col] = train[col].map({'Pave':1,'Grvl':0})\n",
    "\n",
    "# Alley\n",
    "col = 'Alley'\n",
    "train[col] = train[col].map({'Grvl':2,'Pave':1,'None':0})"
   ]
  },
  {
   "cell_type": "markdown",
   "metadata": {},
   "source": [
    "Les autres variables peuvent être traitées comme des dummies."
   ]
  },
  {
   "cell_type": "code",
   "execution_count": 15,
   "metadata": {},
   "outputs": [
    {
     "data": {
      "text/plain": [
       "(1460, 224)"
      ]
     },
     "execution_count": 15,
     "metadata": {},
     "output_type": "execute_result"
    }
   ],
   "source": [
    "train = pd.get_dummies(train)\n",
    "train.shape"
   ]
  },
  {
   "cell_type": "markdown",
   "metadata": {},
   "source": [
    "Validation : "
   ]
  },
  {
   "cell_type": "code",
   "execution_count": 28,
   "metadata": {},
   "outputs": [],
   "source": [
    "from sklearn.model_selection import train_test_split\n",
    "\n",
    "X_train, X_val, y_train, y_val = train_test_split(train.drop(columns='SalePrice'),train['SalePrice'], test_size=0.2)"
   ]
  },
  {
   "cell_type": "code",
   "execution_count": 35,
   "metadata": {
    "scrolled": true
   },
   "outputs": [
    {
     "name": "stdout",
     "output_type": "stream",
     "text": [
      "train score: -3.06227264276318e+17\n",
      "train score: -7.219541904683063e+17\n"
     ]
    }
   ],
   "source": [
    "from sklearn.linear_model import SGDRegressor\n",
    "from sklearn.svm import SVR\n",
    "\n",
    "sgd_reg = SGDRegressor()\n",
    "sgd_reg.fit(X_train,y_train)\n",
    "print('train score:', sgd_reg.score(X_train, y_train))\n",
    "print('train score:', sgd_reg.score(X_val, y_val))"
   ]
  },
  {
   "cell_type": "code",
   "execution_count": 36,
   "metadata": {},
   "outputs": [
    {
     "name": "stderr",
     "output_type": "stream",
     "text": [
      "C:\\Users\\clmen\\Anaconda3\\lib\\site-packages\\sklearn\\svm\\base.py:193: FutureWarning: The default value of gamma will change from 'auto' to 'scale' in version 0.22 to account better for unscaled features. Set gamma explicitly to 'auto' or 'scale' to avoid this warning.\n",
      "  \"avoid this warning.\", FutureWarning)\n"
     ]
    },
    {
     "name": "stdout",
     "output_type": "stream",
     "text": [
      "train score: 0.9294665272161738\n",
      "train score: 0.8165710611861889\n"
     ]
    }
   ],
   "source": [
    "svm_reg = SVR()\n",
    "svm_reg.fit(X_train,y_train)\n",
    "print('train score:', svm_reg.score(X_train, y_train))\n",
    "print('train score:', svm_reg.score(X_val, y_val))"
   ]
  },
  {
   "cell_type": "code",
   "execution_count": null,
   "metadata": {},
   "outputs": [],
   "source": []
  }
 ],
 "metadata": {
  "kernelspec": {
   "display_name": "Python 3",
   "language": "python",
   "name": "python3"
  },
  "language_info": {
   "codemirror_mode": {
    "name": "ipython",
    "version": 3
   },
   "file_extension": ".py",
   "mimetype": "text/x-python",
   "name": "python",
   "nbconvert_exporter": "python",
   "pygments_lexer": "ipython3",
   "version": "3.7.3"
  }
 },
 "nbformat": 4,
 "nbformat_minor": 2
}
